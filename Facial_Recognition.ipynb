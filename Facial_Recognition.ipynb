{
 "cells": [
  {
   "cell_type": "code",
   "execution_count": 1,
   "id": "7567338c-8083-4fbf-84e0-1aef926c98c2",
   "metadata": {},
   "outputs": [],
   "source": [
    "import cv2\n",
    "import os\n",
    "import random\n",
    "import numpy as np\n",
    "from matplotlib import pyplot as plt"
   ]
  },
  {
   "cell_type": "code",
   "execution_count": 2,
   "id": "07a135d2-8a64-47a1-8344-874c4e36b298",
   "metadata": {},
   "outputs": [
    {
     "name": "stdout",
     "output_type": "stream",
     "text": [
      "[PhysicalDevice(name='/physical_device:GPU:0', device_type='GPU')]\n"
     ]
    }
   ],
   "source": [
    "import tensorflow as tf\n",
    "print(tf.config.list_physical_devices('GPU'))"
   ]
  },
  {
   "cell_type": "code",
   "execution_count": 3,
   "id": "174bf7ec-4a53-4749-be02-616dc6fd03f4",
   "metadata": {},
   "outputs": [
    {
     "name": "stdout",
     "output_type": "stream",
     "text": [
      "TF version: 2.10.0\n",
      "GPUs detected: [PhysicalDevice(name='/physical_device:GPU:0', device_type='GPU')]\n",
      "Built with CUDA: True\n",
      "WARNING:tensorflow:From C:\\Users\\adame\\AppData\\Local\\Temp\\ipykernel_15648\\3126150299.py:11: is_gpu_available (from tensorflow.python.framework.test_util) is deprecated and will be removed in a future version.\n",
      "Instructions for updating:\n",
      "Use `tf.config.list_physical_devices('GPU')` instead.\n",
      "Is GPU available: True\n"
     ]
    }
   ],
   "source": [
    "from tensorflow.keras.models import Model\n",
    "from tensorflow.keras.layers import Layer, Conv2D, Dense, MaxPooling2D, Input, Flatten\n",
    "import tensorflow as tf\n",
    "\n",
    "\n",
    "\n",
    "print(\"TF version:\", tf.__version__)\n",
    "print(\"GPUs detected:\", tf.config.list_physical_devices('GPU'))\n",
    "\n",
    "print(\"Built with CUDA:\", tf.test.is_built_with_cuda())\n",
    "print(\"Is GPU available:\", tf.test.is_gpu_available(cuda_only=True))\n"
   ]
  },
  {
   "cell_type": "code",
   "execution_count": 4,
   "id": "37386b6d-aa3f-40e0-817a-5134bf07e028",
   "metadata": {},
   "outputs": [],
   "source": [
    "gpus = tf.config.list_physical_devices('GPU')\n",
    "if gpus:\n",
    "    try:\n",
    "        for gpu in gpus:\n",
    "            tf.config.experimental.set_memory_growth(gpu, True)\n",
    "    except RuntimeError as e:\n",
    "        print(e)"
   ]
  },
  {
   "cell_type": "code",
   "execution_count": 5,
   "id": "26e760dc-8a81-4b97-ba1e-b78cd92f0bda",
   "metadata": {},
   "outputs": [],
   "source": [
    "#Setup Paths\n",
    "POS_PATH = os.path.join('data', 'positive')\n",
    "NEG_PATH = os.path.join('data', 'negative')\n",
    "ANC_PATH = os.path.join('data', 'anchor')"
   ]
  },
  {
   "cell_type": "code",
   "execution_count": 6,
   "id": "fb363821-79bb-4374-bd98-b78d65df60ae",
   "metadata": {},
   "outputs": [],
   "source": [
    "#Directory\n",
    "os.makedirs(POS_PATH, exist_ok=True)#if file created already it passes\n",
    "os.makedirs(NEG_PATH, exist_ok=True)\n",
    "os.makedirs(ANC_PATH, exist_ok=True)\n",
    "\n",
    "if not os.path.exists(POS_PATH):\n",
    "    os.makedirs(POS_PATH)\n",
    "if not os.path.exists(NEG_PATH):\n",
    "    os.makedirs(NEG_PATH)\n",
    "if not os.path.exists(ANC_PATH):\n",
    "    os.makedirs(ANC_PATH)"
   ]
  },
  {
   "cell_type": "code",
   "execution_count": 7,
   "id": "ff192f4a-5c01-4331-9fc9-9bf48d5b286f",
   "metadata": {},
   "outputs": [],
   "source": [
    "#moves the lfw images to the following repository data/negative\n",
    "for directory in os.listdir('lfw'): \n",
    "    dir_path = os.path.join('lfw', directory)\n",
    "    for file in os.listdir(dir_path):\n",
    "        EX_PATH = os.path.join(dir_path, file)\n",
    "        NEW_PATH = os.path.join(NEG_PATH, file)\n",
    "        os.replace(EX_PATH, NEW_PATH)"
   ]
  },
  {
   "cell_type": "code",
   "execution_count": 8,
   "id": "82fb26cb-0dee-4799-a1d8-35aebeb39c29",
   "metadata": {},
   "outputs": [],
   "source": [
    "#importing UUID to generate unique image names\n",
    "import uuid"
   ]
  },
  {
   "cell_type": "code",
   "execution_count": 9,
   "id": "298b5039-2751-4377-9af4-4aedd935a40f",
   "metadata": {},
   "outputs": [
    {
     "data": {
      "text/plain": [
       "UUID('b480314f-5daa-11f0-a06e-f02f74181521')"
      ]
     },
     "execution_count": 9,
     "metadata": {},
     "output_type": "execute_result"
    }
   ],
   "source": [
    "uuid.uuid1()"
   ]
  },
  {
   "cell_type": "code",
   "execution_count": 10,
   "id": "241e8165-146d-47a2-8787-a95137f28cc1",
   "metadata": {},
   "outputs": [],
   "source": [
    "#Capturing Images Via Webcam\n",
    "cap = cv2.VideoCapture(0)\n",
    "\n",
    "if not cap.isOpened():\n",
    "    print(\"Cannot open webcam\")\n",
    "\n",
    "while cap.isOpened():\n",
    "    ret, frame = cap.read()\n",
    "\n",
    "    frame = frame[120:120+250, 200:200+250, :3] # cut down frame to 250x250 and slices to the center of camera\n",
    "    \n",
    "    #Collect Anchors\n",
    "    if cv2.waitKey(1) & 0xFF == ord('a'):\n",
    "        imgname = os.path.join(ANC_PATH, '{}.jpg'.format(uuid.uuid1())) #creates a unique file path\n",
    "        cv2.imwrite(imgname, frame) # writes out the unique image name\n",
    "        \n",
    "        \n",
    "    #Collect Positives\n",
    "    if cv2.waitKey(1) & 0xFF == ord('p'):\n",
    "        imgname = os.path.join(POS_PATH, '{}.jpg'.format(uuid.uuid1()))\n",
    "        cv2.imwrite(imgname, frame)\n",
    "    \n",
    "    if not ret:\n",
    "        print(\"Failed to grab frame\")\n",
    "        break\n",
    "\n",
    "    cv2.imshow('Image Collection (Hit q to exit)', frame)\n",
    "\n",
    "    # Use 'q' to quit\n",
    "    if cv2.waitKey(1) & 0xFF == ord('q'):\n",
    "        break\n",
    "\n",
    "cap.release()\n",
    "cv2.destroyAllWindows()"
   ]
  },
  {
   "cell_type": "code",
   "execution_count": 11,
   "id": "50568c4e-58c5-4734-a860-7e0a38f1ceb3",
   "metadata": {},
   "outputs": [],
   "source": [
    "anchor = tf.data.Dataset.list_files(ANC_PATH+'\\*.jpg').take(300) #takes 300 images from the anchor directory\n",
    "positive = tf.data.Dataset.list_files(POS_PATH+'\\*.jpg').take(300)\n",
    "negative = tf.data.Dataset.list_files(NEG_PATH+'\\*.jpg').take(300)"
   ]
  },
  {
   "cell_type": "code",
   "execution_count": 12,
   "id": "2a8a781c-76b8-4e1d-9d8a-9cdda25ac52e",
   "metadata": {},
   "outputs": [],
   "source": [
    "#preprocessing\n",
    "\n",
    "def preprocess(file_path):\n",
    "    byte_img = tf.io.read_file(file_path) #read in image from file path\n",
    "    img = tf.io.decode_jpeg(byte_img) # load in image\n",
    "    img = tf.image.resize(img, (100,100)) #resizing image to be 100x100x3\n",
    "    img = img / 255.0 #scale image to be 0 and 1\n",
    "    return img"
   ]
  },
  {
   "cell_type": "code",
   "execution_count": 13,
   "id": "2bd344a1-220a-4b22-9c2b-98413972b6ed",
   "metadata": {},
   "outputs": [],
   "source": [
    "#Creating a labelled dataset\n",
    "positives = tf.data.Dataset.zip((anchor, positive, tf.data.Dataset.from_tensor_slices(tf.ones(len(anchor)))))\n",
    "negatives = tf.data.Dataset.zip((anchor, negative, tf.data.Dataset.from_tensor_slices(tf.zeros(len(anchor)))))\n",
    "data = positives.concatenate(negatives)"
   ]
  },
  {
   "cell_type": "code",
   "execution_count": 14,
   "id": "3139de59-ae46-47c7-aa99-fc41179995c6",
   "metadata": {},
   "outputs": [],
   "source": [
    "def preprocess_twin(input_img, validation_img, label):\n",
    "    return(preprocess(input_img), preprocess(validation_img), label)"
   ]
  },
  {
   "cell_type": "code",
   "execution_count": 15,
   "id": "24551293-0116-4b81-8e05-8cadb89250b4",
   "metadata": {},
   "outputs": [],
   "source": [
    "#dataloader pipeline\n",
    "\n",
    "data = data.map(preprocess_twin)\n",
    "data = data.cache()\n",
    "data = data.shuffle(buffer_size = 1024)"
   ]
  },
  {
   "cell_type": "code",
   "execution_count": 16,
   "id": "9acb865e-8fb9-4646-be22-239fbdac00b5",
   "metadata": {},
   "outputs": [],
   "source": [
    "#training partitioner\n",
    "train_data = data.take(round(len(data)*.7))\n",
    "train_data = train_data.batch(16)\n",
    "train_data = train_data.prefetch(8)"
   ]
  },
  {
   "cell_type": "code",
   "execution_count": 17,
   "id": "191a11c9-9985-4759-8ff5-262202e78dca",
   "metadata": {},
   "outputs": [],
   "source": [
    "#Testing Partition\n",
    "\n",
    "test_data = data.skip(round(len(data)*.7)) #skips the training portion\n",
    "test_data = test_data.take(round(len(data)*.3))#takes the final as test\n",
    "test_data = test_data.batch(16)\n",
    "test_data = test_data.prefetch(8)"
   ]
  },
  {
   "cell_type": "code",
   "execution_count": 18,
   "id": "b9d4e0c7-dd27-44fd-905e-678489514ed5",
   "metadata": {},
   "outputs": [],
   "source": [
    "def make_embedding(): \n",
    "    inp = Input(shape=(100,100,3), name='input_image')\n",
    "    \n",
    "    # First block\n",
    "    c1 = Conv2D(64, (10,10), activation='relu')(inp)\n",
    "    m1 = MaxPooling2D(64, (2,2), padding='same')(c1)\n",
    "    \n",
    "    # Second block\n",
    "    c2 = Conv2D(128, (7,7), activation='relu')(m1)\n",
    "    m2 = MaxPooling2D(64, (2,2), padding='same')(c2)\n",
    "    \n",
    "    # Third block \n",
    "    c3 = Conv2D(128, (4,4), activation='relu')(m2)\n",
    "    m3 = MaxPooling2D(64, (2,2), padding='same')(c3)\n",
    "    \n",
    "    # Final embedding block\n",
    "    c4 = Conv2D(256, (4,4), activation='relu')(m3)\n",
    "    f1 = Flatten()(c4)\n",
    "    d1 = Dense(4096 , activation='sigmoid')(f1)\n",
    "    \n",
    "    \n",
    "    return Model(inputs=[inp], outputs=[d1], name='embedding')\n"
   ]
  },
  {
   "cell_type": "code",
   "execution_count": 19,
   "id": "a0542037-ca03-4621-8d6d-15d622b52b57",
   "metadata": {},
   "outputs": [],
   "source": [
    "embedding = make_embedding()"
   ]
  },
  {
   "cell_type": "code",
   "execution_count": 20,
   "id": "da2dfabb-9fbc-4220-8395-321038f6be3f",
   "metadata": {},
   "outputs": [
    {
     "name": "stdout",
     "output_type": "stream",
     "text": [
      "Model: \"embedding\"\n",
      "_________________________________________________________________\n",
      " Layer (type)                Output Shape              Param #   \n",
      "=================================================================\n",
      " input_image (InputLayer)    [(None, 100, 100, 3)]     0         \n",
      "                                                                 \n",
      " conv2d (Conv2D)             (None, 91, 91, 64)        19264     \n",
      "                                                                 \n",
      " max_pooling2d (MaxPooling2D  (None, 46, 46, 64)       0         \n",
      " )                                                               \n",
      "                                                                 \n",
      " conv2d_1 (Conv2D)           (None, 40, 40, 128)       401536    \n",
      "                                                                 \n",
      " max_pooling2d_1 (MaxPooling  (None, 20, 20, 128)      0         \n",
      " 2D)                                                             \n",
      "                                                                 \n",
      " conv2d_2 (Conv2D)           (None, 17, 17, 128)       262272    \n",
      "                                                                 \n",
      " max_pooling2d_2 (MaxPooling  (None, 9, 9, 128)        0         \n",
      " 2D)                                                             \n",
      "                                                                 \n",
      " conv2d_3 (Conv2D)           (None, 6, 6, 256)         524544    \n",
      "                                                                 \n",
      " flatten (Flatten)           (None, 9216)              0         \n",
      "                                                                 \n",
      " dense (Dense)               (None, 4096)              37752832  \n",
      "                                                                 \n",
      "=================================================================\n",
      "Total params: 38,960,448\n",
      "Trainable params: 38,960,448\n",
      "Non-trainable params: 0\n",
      "_________________________________________________________________\n"
     ]
    }
   ],
   "source": [
    "embedding.summary()"
   ]
  },
  {
   "cell_type": "code",
   "execution_count": 21,
   "id": "507f0881-bec8-41c0-8f88-cb7edf3ad167",
   "metadata": {},
   "outputs": [],
   "source": [
    "#Siamese Distance Class\n",
    "\n",
    "class L1Dist(Layer):\n",
    "    def __init__(self, **kwargs):\n",
    "        super().__init__()\n",
    "        \n",
    "    #Similarity Calculation\n",
    "    def call(self, input_embedding, validation_embedding):\n",
    "        return tf.math.abs(input_embedding - validation_embedding)\n",
    "\n"
   ]
  },
  {
   "cell_type": "code",
   "execution_count": 22,
   "id": "379ab1aa-537f-4603-8b3b-39148ea06132",
   "metadata": {},
   "outputs": [],
   "source": [
    "input_image = Input(name = 'input_img', shape = (100,100,3))\n",
    "validation_image = Input(name = 'validation_img', shape = (100,100,3)) #Validation image\n"
   ]
  },
  {
   "cell_type": "code",
   "execution_count": 23,
   "id": "cbf45c7c-310a-4601-b2a4-37011576049e",
   "metadata": {},
   "outputs": [],
   "source": [
    "inp_embedding = embedding(input_image)\n",
    "val_embedding = embedding(validation_image)"
   ]
  },
  {
   "cell_type": "code",
   "execution_count": 24,
   "id": "db4c04c8-180e-40f7-b913-a2d8d027e32d",
   "metadata": {},
   "outputs": [],
   "source": [
    "siamese_layer = L1Dist()"
   ]
  },
  {
   "cell_type": "code",
   "execution_count": 25,
   "id": "e2679294-41b6-403a-9d60-4840e3a33ed6",
   "metadata": {},
   "outputs": [],
   "source": [
    "distances = siamese_layer(inp_embedding, val_embedding)"
   ]
  },
  {
   "cell_type": "code",
   "execution_count": 26,
   "id": "22e2049c-4e28-4a97-83ab-e879399d9326",
   "metadata": {},
   "outputs": [],
   "source": [
    "classifier = Dense(1, activation = 'sigmoid')(distances)"
   ]
  },
  {
   "cell_type": "code",
   "execution_count": 27,
   "id": "eb33297b-32ba-4e67-8e4e-d87369720015",
   "metadata": {},
   "outputs": [
    {
     "data": {
      "text/plain": [
       "<KerasTensor: shape=(None, 1) dtype=float32 (created by layer 'dense_1')>"
      ]
     },
     "execution_count": 27,
     "metadata": {},
     "output_type": "execute_result"
    }
   ],
   "source": [
    "classifier"
   ]
  },
  {
   "cell_type": "code",
   "execution_count": 28,
   "id": "53bc7cdf-b50e-4251-9a0c-b8c59fc7a37a",
   "metadata": {},
   "outputs": [],
   "source": [
    "def make_siamese_model():\n",
    "    input_image = Input(name='input_img', shape=(100, 100, 3))# Anchor\n",
    "    validation_image = Input(name='validation_img', shape=(100, 100, 3))  # Positive or Negative\n",
    "\n",
    "    siamese_layer = L1Dist()\n",
    "    siamese_layer._name = 'distance'\n",
    "\n",
    "    distances = siamese_layer(embedding(input_image), embedding(validation_image))\n",
    "\n",
    "    # Classification layer\n",
    "    classifier = Dense(1, activation='sigmoid')(distances)\n",
    "\n",
    "    return Model(inputs=[input_image, validation_image], outputs=classifier, name='SiameseNetwork')\n"
   ]
  },
  {
   "cell_type": "code",
   "execution_count": 29,
   "id": "a6f3c71b-5f93-46bf-9ad1-66c1c8fa3c0b",
   "metadata": {},
   "outputs": [],
   "source": [
    "siamese_model = make_siamese_model()"
   ]
  },
  {
   "cell_type": "code",
   "execution_count": 30,
   "id": "6d171d80-b4b6-452e-837d-6879e3fabc5b",
   "metadata": {},
   "outputs": [
    {
     "name": "stdout",
     "output_type": "stream",
     "text": [
      "Model: \"SiameseNetwork\"\n",
      "__________________________________________________________________________________________________\n",
      " Layer (type)                   Output Shape         Param #     Connected to                     \n",
      "==================================================================================================\n",
      " input_img (InputLayer)         [(None, 100, 100, 3  0           []                               \n",
      "                                )]                                                                \n",
      "                                                                                                  \n",
      " validation_img (InputLayer)    [(None, 100, 100, 3  0           []                               \n",
      "                                )]                                                                \n",
      "                                                                                                  \n",
      " embedding (Functional)         (None, 4096)         38960448    ['input_img[0][0]',              \n",
      "                                                                  'validation_img[0][0]']         \n",
      "                                                                                                  \n",
      " distance (L1Dist)              (None, 4096)         0           ['embedding[2][0]',              \n",
      "                                                                  'embedding[3][0]']              \n",
      "                                                                                                  \n",
      " dense_2 (Dense)                (None, 1)            4097        ['distance[0][0]']               \n",
      "                                                                                                  \n",
      "==================================================================================================\n",
      "Total params: 38,964,545\n",
      "Trainable params: 38,964,545\n",
      "Non-trainable params: 0\n",
      "__________________________________________________________________________________________________\n"
     ]
    }
   ],
   "source": [
    "siamese_model.summary()"
   ]
  },
  {
   "cell_type": "code",
   "execution_count": 31,
   "id": "2eafffe2-7f4e-4b3f-8d20-59564720e9fe",
   "metadata": {},
   "outputs": [],
   "source": [
    "binary_cross_loss = tf.losses.BinaryCrossentropy()"
   ]
  },
  {
   "cell_type": "code",
   "execution_count": 32,
   "id": "698cd2e9-d10b-42cb-8fec-f47ebb12f8a6",
   "metadata": {},
   "outputs": [],
   "source": [
    "opt = tf.keras.optimizers.Adam(1e-4) #0.0001 my name so I had to use it.."
   ]
  },
  {
   "cell_type": "code",
   "execution_count": 33,
   "id": "d0155ad3-36bf-41bf-8f7c-75b9e9a2f1ce",
   "metadata": {},
   "outputs": [],
   "source": [
    "checkpoint_dir = './training_checkpoints'\n",
    "checkpoint_prefix = os.path.join(checkpoint_dir, 'ckpt')\n",
    "checkpoint = tf.train.Checkpoint(opt = opt, siamese_model=siamese_model)"
   ]
  },
  {
   "cell_type": "code",
   "execution_count": 34,
   "id": "43455c66-5272-4a60-855c-22a0b9e82697",
   "metadata": {},
   "outputs": [],
   "source": [
    "test_batch = train_data.as_numpy_iterator()"
   ]
  },
  {
   "cell_type": "code",
   "execution_count": 35,
   "id": "878ca20f-b454-48fa-9161-9f9a6a22077f",
   "metadata": {},
   "outputs": [],
   "source": [
    "batch_1 = test_batch.next()"
   ]
  },
  {
   "cell_type": "code",
   "execution_count": 36,
   "id": "528e6d09-4b97-4ca1-b2a7-d5d514e6f516",
   "metadata": {},
   "outputs": [],
   "source": [
    "X = batch_1[:2]"
   ]
  },
  {
   "cell_type": "code",
   "execution_count": 37,
   "id": "61f0d73d-0f76-4c3f-9047-ee5e2bc2dcea",
   "metadata": {},
   "outputs": [],
   "source": [
    "y = batch_1[2]"
   ]
  },
  {
   "cell_type": "code",
   "execution_count": 38,
   "id": "8a906fc3-766b-4875-8378-b0170433c27c",
   "metadata": {},
   "outputs": [
    {
     "data": {
      "text/plain": [
       "array([1., 1., 0., 0., 1., 0., 0., 1., 1., 1., 1., 0., 0., 0., 1., 1.],\n",
       "      dtype=float32)"
      ]
     },
     "execution_count": 38,
     "metadata": {},
     "output_type": "execute_result"
    }
   ],
   "source": [
    "y"
   ]
  },
  {
   "cell_type": "code",
   "execution_count": 39,
   "id": "fe612e3d-8f1b-48b9-9029-ebf42ea4ae95",
   "metadata": {},
   "outputs": [],
   "source": [
    "@tf.function\n",
    "def train_step(batch):\n",
    "    \n",
    "    # Record all of our operations \n",
    "    with tf.GradientTape() as tape:     \n",
    "        # Get anchor and positive/negative image\n",
    "        X = batch[:2]\n",
    "        # Get label\n",
    "        y = batch[2]\n",
    "        \n",
    "        # Forward pass\n",
    "        yhat = siamese_model(X, training=True)\n",
    "        # Calculate loss\n",
    "        loss = binary_cross_loss(y, yhat)\n",
    "    print(loss)\n",
    "        \n",
    "    # Calculate gradients\n",
    "    grad = tape.gradient(loss, siamese_model.trainable_variables)\n",
    "    \n",
    "    # Calculate updated weights and apply to siamese model\n",
    "    opt.apply_gradients(zip(grad, siamese_model.trainable_variables))\n",
    "    \n",
    "    # Return loss\n",
    "    return loss"
   ]
  },
  {
   "cell_type": "code",
   "execution_count": 40,
   "id": "58a54a4f-330b-4f1c-80e8-0adf5fad456f",
   "metadata": {},
   "outputs": [],
   "source": [
    "def train(data, EPOCHS):\n",
    "    # Loop through epochs\n",
    "    for epoch in range(1, EPOCHS+1):\n",
    "        print('\\n Epoch {}/{}'.format(epoch, EPOCHS))\n",
    "        progbar = tf.keras.utils.Progbar(len(data))\n",
    "        \n",
    "        # Loop through each batch\n",
    "        for idx, batch in enumerate(data):\n",
    "            # Run train step here\n",
    "            train_step(batch)\n",
    "            progbar.update(idx+1)\n",
    "        \n",
    "        # Save checkpoints\n",
    "        if epoch % 10 == 0: \n",
    "            checkpoint.save(file_prefix=checkpoint_prefix)"
   ]
  },
  {
   "cell_type": "code",
   "execution_count": 41,
   "id": "60912c7f-db35-4798-b078-4e6e490140b3",
   "metadata": {},
   "outputs": [],
   "source": [
    "EPOCHS = 50"
   ]
  },
  {
   "cell_type": "code",
   "execution_count": null,
   "id": "ae4defd0-1a51-4559-b523-02fcd376584c",
   "metadata": {},
   "outputs": [
    {
     "name": "stdout",
     "output_type": "stream",
     "text": [
      "\n",
      " Epoch 1/50\n",
      "Tensor(\"binary_crossentropy/weighted_loss/value:0\", shape=(), dtype=float32)\n",
      "Tensor(\"binary_crossentropy/weighted_loss/value:0\", shape=(), dtype=float32)\n",
      "26/27 [===========================>..] - ETA: 0sTensor(\"binary_crossentropy/weighted_loss/value:0\", shape=(), dtype=float32)\n",
      "27/27 [==============================] - 7s 161ms/step\n",
      "\n",
      " Epoch 2/50\n",
      "27/27 [==============================] - 5s 185ms/step\n",
      "\n",
      " Epoch 3/50\n",
      "27/27 [==============================] - 5s 192ms/step\n",
      "\n",
      " Epoch 4/50\n",
      "27/27 [==============================] - 5s 179ms/step\n",
      "\n",
      " Epoch 5/50\n",
      "27/27 [==============================] - 4s 151ms/step\n",
      "\n",
      " Epoch 6/50\n",
      "27/27 [==============================] - 4s 151ms/step\n",
      "\n",
      " Epoch 7/50\n",
      "27/27 [==============================] - 4s 162ms/step\n",
      "\n",
      " Epoch 8/50\n",
      "27/27 [==============================] - 4s 156ms/step\n",
      "\n",
      " Epoch 9/50\n",
      "27/27 [==============================] - 4s 151ms/step\n",
      "\n",
      " Epoch 10/50\n",
      "27/27 [==============================] - 5s 178ms/step\n",
      "\n",
      " Epoch 11/50\n",
      "27/27 [==============================] - 4s 162ms/step\n",
      "\n",
      " Epoch 12/50\n",
      "27/27 [==============================] - 4s 164ms/step\n",
      "\n",
      " Epoch 13/50\n",
      "27/27 [==============================] - 4s 157ms/step\n",
      "\n",
      " Epoch 14/50\n",
      "27/27 [==============================] - 4s 155ms/step\n",
      "\n",
      " Epoch 15/50\n",
      "27/27 [==============================] - 4s 164ms/step\n",
      "\n",
      " Epoch 16/50\n",
      "27/27 [==============================] - 5s 177ms/step\n",
      "\n",
      " Epoch 17/50\n",
      "27/27 [==============================] - 5s 174ms/step\n",
      "\n",
      " Epoch 18/50\n",
      "27/27 [==============================] - 5s 200ms/step\n",
      "\n",
      " Epoch 19/50\n",
      "27/27 [==============================] - 5s 185ms/step\n",
      "\n",
      " Epoch 20/50\n",
      "27/27 [==============================] - 5s 193ms/step\n",
      "\n",
      " Epoch 21/50\n",
      "27/27 [==============================] - 5s 183ms/step\n",
      "\n",
      " Epoch 22/50\n",
      "27/27 [==============================] - 4s 165ms/step\n",
      "\n",
      " Epoch 23/50\n",
      "27/27 [==============================] - 5s 178ms/step\n",
      "\n",
      " Epoch 24/50\n",
      "27/27 [==============================] - 5s 178ms/step\n",
      "\n",
      " Epoch 25/50\n",
      "27/27 [==============================] - 4s 149ms/step\n",
      "\n",
      " Epoch 26/50\n",
      "27/27 [==============================] - 4s 149ms/step\n",
      "\n",
      " Epoch 27/50\n",
      "27/27 [==============================] - 4s 164ms/step\n",
      "\n",
      " Epoch 28/50\n",
      "27/27 [==============================] - 4s 148ms/step\n",
      "\n",
      " Epoch 29/50\n",
      "27/27 [==============================] - 4s 167ms/step\n",
      "\n",
      " Epoch 30/50\n",
      "27/27 [==============================] - 4s 166ms/step\n",
      "\n",
      " Epoch 31/50\n",
      "27/27 [==============================] - 4s 151ms/step\n",
      "\n",
      " Epoch 32/50\n",
      "27/27 [==============================] - 4s 148ms/step\n",
      "\n",
      " Epoch 33/50\n",
      "27/27 [==============================] - 5s 183ms/step\n",
      "\n",
      " Epoch 34/50\n",
      "27/27 [==============================] - 4s 152ms/step\n",
      "\n",
      " Epoch 35/50\n",
      "27/27 [==============================] - 4s 158ms/step\n",
      "\n",
      " Epoch 36/50\n",
      "27/27 [==============================] - 4s 151ms/step\n",
      "\n",
      " Epoch 37/50\n",
      "27/27 [==============================] - 4s 161ms/step\n",
      "\n",
      " Epoch 38/50\n",
      "27/27 [==============================] - 4s 153ms/step\n",
      "\n",
      " Epoch 39/50\n",
      "27/27 [==============================] - 4s 159ms/step\n",
      "\n",
      " Epoch 40/50\n",
      "27/27 [==============================] - 4s 160ms/step\n",
      "\n",
      " Epoch 41/50\n",
      "27/27 [==============================] - 4s 163ms/step\n",
      "\n",
      " Epoch 42/50\n",
      "27/27 [==============================] - 4s 157ms/step\n",
      "\n",
      " Epoch 43/50\n",
      "27/27 [==============================] - 4s 159ms/step\n",
      "\n",
      " Epoch 44/50\n",
      "27/27 [==============================] - 4s 151ms/step\n",
      "\n",
      " Epoch 45/50\n",
      "27/27 [==============================] - 4s 156ms/step\n",
      "\n",
      " Epoch 46/50\n",
      "27/27 [==============================] - 4s 158ms/step\n",
      "\n",
      " Epoch 47/50\n",
      "27/27 [==============================] - 4s 162ms/step\n",
      "\n",
      " Epoch 48/50\n",
      " 4/27 [===>..........................] - ETA: 4s"
     ]
    }
   ],
   "source": [
    "train(train_data, EPOCHS)"
   ]
  },
  {
   "cell_type": "code",
   "execution_count": null,
   "id": "f962024f-cf19-4da9-a0fc-80e1aaae902e",
   "metadata": {},
   "outputs": [],
   "source": [
    "from tensorflow.keras.metrics import Precision, Recall"
   ]
  },
  {
   "cell_type": "code",
   "execution_count": null,
   "id": "53f5dc36-1491-4ee0-a19b-995aeb171918",
   "metadata": {},
   "outputs": [],
   "source": [
    "#batch of test data\n",
    "test_input, test_val, y_true = test_data.as_numpy_iterator().next()"
   ]
  },
  {
   "cell_type": "code",
   "execution_count": null,
   "id": "137b8a4d-9d74-46cc-94ae-7726aa089e30",
   "metadata": {},
   "outputs": [],
   "source": [
    "y_hat = siamese_model.predict([test_input, test_val])\n",
    "y_hat "
   ]
  },
  {
   "cell_type": "code",
   "execution_count": null,
   "id": "c0c02fe6-4434-4ecc-850b-5bddcb753310",
   "metadata": {},
   "outputs": [],
   "source": [
    "[1 if prediction > 0.5 else 0 for prediction in y_hat]"
   ]
  },
  {
   "cell_type": "code",
   "execution_count": null,
   "id": "54b17b82-e0f9-43c3-8224-fdf4352ef9ff",
   "metadata": {},
   "outputs": [],
   "source": [
    "y_true"
   ]
  },
  {
   "cell_type": "code",
   "execution_count": null,
   "id": "2d67625e-e955-41a9-9b76-be87396f4963",
   "metadata": {},
   "outputs": [],
   "source": [
    "m = Recall()\n",
    "m.update_state(y_true, y_hat)\n",
    "m.result().numpy()"
   ]
  },
  {
   "cell_type": "code",
   "execution_count": null,
   "id": "6685057d-4fc3-46e1-a98d-0a281afa6c7b",
   "metadata": {},
   "outputs": [],
   "source": [
    "#Showing image comparison \n",
    "plt.figure(figsize=(10, 8))\n",
    "plt.subplot(1,2,1)\n",
    "plt.imshow(test_input[2])\n",
    "plt.subplot(1,2,2)\n",
    "plt.imshow(test_val[2])\n",
    "plt.show\n",
    "\n",
    "print('1.0 if POSITIVE // 0.0 IF NEGATIVE: ', y_true[2])\n"
   ]
  },
  {
   "cell_type": "code",
   "execution_count": null,
   "id": "1fd45543-a1c1-453a-bb3a-bfdf9b0ccf16",
   "metadata": {},
   "outputs": [],
   "source": [
    "#Save Model\n",
    "\n",
    "siamese_model.save('siamesemodel.h5')"
   ]
  },
  {
   "cell_type": "code",
   "execution_count": null,
   "id": "1556f151-9e0c-4ff5-9715-e36dfff8d1cb",
   "metadata": {},
   "outputs": [],
   "source": [
    "#reload\n",
    "model = tf.keras.models.load_model('siamesemodel.h5', \n",
    "                                  custom_objects={'L1Dist':L1Dist, 'BinaryCrossentropy':tf.losses.BinaryCrossentropy})"
   ]
  },
  {
   "cell_type": "code",
   "execution_count": null,
   "id": "cfb671c5-01a4-46dc-8276-087efc6a79cc",
   "metadata": {},
   "outputs": [],
   "source": [
    "#preds with reloaded model\n",
    "model.predict([test_input, test_val])"
   ]
  },
  {
   "cell_type": "code",
   "execution_count": null,
   "id": "497f8d22-dc9a-424d-8f86-898b8a81be2e",
   "metadata": {},
   "outputs": [],
   "source": [
    "model.summary()"
   ]
  },
  {
   "cell_type": "code",
   "execution_count": null,
   "id": "15bc4661-135c-40b2-9a3d-81b8260d7a50",
   "metadata": {},
   "outputs": [],
   "source": [
    "#verification\n",
    "\n",
    "def verify(model, detection_threshold, verification_threshold):\n",
    "    results = []\n",
    "    for image in os.listdir(os.path.join('application_data', 'verification_images')):\n",
    "        input_img = preprocess(os.path.join('application_data', 'input_images', 'input_img.jpg'))\n",
    "        validation_img = preprocess(os.path.join('application_data', 'verification_images', image))\n",
    "\n",
    "        result = model.predict(list(np.expand_dims([input_img, validation_img], axis = 1)))\n",
    "        results.append(result)\n",
    "        \n",
    "    #Metric to judge if a prediction is considered positive\n",
    "    detection = np.sum(np.array(results) > detection_threshold)\n",
    "\n",
    "    #Proportion of positive predictions / total positive samples\n",
    "    verification = detection / len (os.listdir(os.path.join('application_data', 'verification_images')))\n",
    "    verified = verification > verification_threshold\n",
    "\n",
    "    return results, verified"
   ]
  },
  {
   "cell_type": "code",
   "execution_count": null,
   "id": "66f82a6e-3099-4448-9d13-e3398950c63f",
   "metadata": {},
   "outputs": [],
   "source": [
    "cap = cv2.VideoCapture(0)\n",
    "while cap.isOpened():\n",
    "    ret, frame = cap.read()\n",
    "    #Makes it the same size as images have been taken in the past.\n",
    "    frame = frame[120:120+250, 200:200+250, :3]\n",
    "\n",
    "    cv2.imshow('Verification', frame)\n",
    "\n",
    "    #Verification Trigger\n",
    "    if cv2.waitKey(10) & 0xFF == ord('v'):\n",
    "        #Saving input img to input folder\n",
    "        cv2.imwrite(os.path.join('application_data', 'input_images', 'input_img.jpg'), frame)\n",
    "\n",
    "        #running verification\n",
    "        results, verified = verify(model, 0.9, 0.7)\n",
    "        print(verified)\n",
    "    \n",
    "\n",
    "    if cv2.waitKey(10) & 0xFF == ord('q'):\n",
    "        break\n",
    "        \n",
    "cap.release()\n",
    "cv2.destroyAllWindows()"
   ]
  },
  {
   "cell_type": "code",
   "execution_count": null,
   "id": "e7697436-02cf-47d4-a37f-688d37891599",
   "metadata": {},
   "outputs": [],
   "source": [
    "np.sum(np.squeeze(results) > 0.5)"
   ]
  },
  {
   "cell_type": "code",
   "execution_count": null,
   "id": "1e793ca5-5717-4f26-9e77-4893806180f6",
   "metadata": {},
   "outputs": [],
   "source": [
    "results"
   ]
  }
 ],
 "metadata": {
  "kernelspec": {
   "display_name": "Python (tf2-gpu)",
   "language": "python",
   "name": "tf2-gpu"
  },
  "language_info": {
   "codemirror_mode": {
    "name": "ipython",
    "version": 3
   },
   "file_extension": ".py",
   "mimetype": "text/x-python",
   "name": "python",
   "nbconvert_exporter": "python",
   "pygments_lexer": "ipython3",
   "version": "3.10.18"
  }
 },
 "nbformat": 4,
 "nbformat_minor": 5
}
